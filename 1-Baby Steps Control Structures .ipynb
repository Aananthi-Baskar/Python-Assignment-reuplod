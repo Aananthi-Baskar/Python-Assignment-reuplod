{
 "cells": [
  {
   "cell_type": "code",
   "execution_count": 1,
   "metadata": {},
   "outputs": [
    {
     "name": "stdout",
     "output_type": "stream",
     "text": [
      "Welcome to Assignment-1\n"
     ]
    }
   ],
   "source": [
    "print(\"Welcome to Assignment-1\")"
   ]
  },
  {
   "cell_type": "code",
   "execution_count": 4,
   "metadata": {},
   "outputs": [
    {
     "name": "stdout",
     "output_type": "stream",
     "text": [
      "Num1=10\n",
      "Num2=30\n",
      "Add =  40\n"
     ]
    }
   ],
   "source": [
    "Num1= int(input(\"Num1=\"))\n",
    "Num2= int(input(\"Num2=\"))\n",
    "Add = Num1 + Num2\n",
    "print(\"Add = \", Add)"
   ]
  },
  {
   "cell_type": "markdown",
   "metadata": {},
   "source": [
    "#Body Mass Index"
   ]
  },
  {
   "cell_type": "code",
   "execution_count": 5,
   "metadata": {},
   "outputs": [
    {
     "name": "stdout",
     "output_type": "stream",
     "text": [
      "Enter the BMI Index:34\n",
      "Obese\n"
     ]
    }
   ],
   "source": [
    "BMI = float(input(\"Enter the BMI Index:\"))\n",
    "if(BMI<18.5):\n",
    "    print(\"Under Weight\")\n",
    "elif(BMI<25):\n",
    "    print(\"Normal\")\n",
    "elif(BMI<30):\n",
    "    print(\"Over weight\")\n",
    "elif(BMI<35):\n",
    "    print(\"Obese\")\n",
    "else:\n",
    "    print(\"Extremely Obese\")\n",
    "    "
   ]
  },
  {
   "cell_type": "code",
   "execution_count": 6,
   "metadata": {},
   "outputs": [
    {
     "name": "stdout",
     "output_type": "stream",
     "text": [
      "Enter your height: 165\n",
      "Enter your weight: 82\n",
      "Your BMI is: 30.119375573921033\n",
      "Obese\n"
     ]
    }
   ],
   "source": [
    "height = float(input(\"Enter your height: \"))\n",
    "weight = float(input(\"Enter your weight: \"))\n",
    "BMI = weight / ((height/100)*(height/100))\n",
    "print(\"Your BMI is:\", BMI)\n",
    "if(BMI<18.5):\n",
    "    print(\"Under Weight\")\n",
    "elif(BMI<25):\n",
    "    print(\"Normal\")\n",
    "elif(BMI<30):\n",
    "    print(\"Over weight\")\n",
    "elif(BMI<35):\n",
    "    print(\"Obese\")\n",
    "else:\n",
    "    print(\"Extremely Obese\")"
   ]
  },
  {
   "cell_type": "code",
   "execution_count": null,
   "metadata": {},
   "outputs": [],
   "source": []
  },
  {
   "cell_type": "code",
   "execution_count": null,
   "metadata": {},
   "outputs": [],
   "source": []
  },
  {
   "cell_type": "code",
   "execution_count": null,
   "metadata": {},
   "outputs": [],
   "source": []
  }
 ],
 "metadata": {
  "kernelspec": {
   "display_name": "Python 3",
   "language": "python",
   "name": "python3"
  },
  "language_info": {
   "codemirror_mode": {
    "name": "ipython",
    "version": 3
   },
   "file_extension": ".py",
   "mimetype": "text/x-python",
   "name": "python",
   "nbconvert_exporter": "python",
   "pygments_lexer": "ipython3",
   "version": "3.7.4"
  }
 },
 "nbformat": 4,
 "nbformat_minor": 2
}
